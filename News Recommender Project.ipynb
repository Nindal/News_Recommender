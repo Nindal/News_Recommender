{
 "cells": [
  {
   "cell_type": "markdown",
   "metadata": {},
   "source": [
    "# IMPORT LIBRARIES"
   ]
  },
  {
   "cell_type": "code",
   "execution_count": 406,
   "metadata": {},
   "outputs": [],
   "source": [
    "import numpy as np\n",
    "import pandas as pd\n",
    "import nltk\n",
    "import gensim\n",
    "from nltk.tokenize import RegexpTokenizer\n",
    "tokenizer = RegexpTokenizer(r'\\w+')\n",
    "from nltk.corpus import stopwords\n",
    "stop_words = set(stopwords.words('english'))\n",
    "from nltk.stem import WordNetLemmatizer \n",
    "lemmatizer = WordNetLemmatizer()\n",
    "from nltk.stem.porter import PorterStemmer\n",
    "stemmer=PorterStemmer()\n",
    "from gensim import corpora, models\n",
    "import re\n",
    "stemmed_tokens=[]"
   ]
  },
  {
   "cell_type": "markdown",
   "metadata": {},
   "source": [
    "# IMPORT DATA"
   ]
  },
  {
   "cell_type": "code",
   "execution_count": 407,
   "metadata": {},
   "outputs": [],
   "source": [
    "df=pd.read_csv('news_articles.csv')\n",
    "df=df[['Article_Id','Title','Content']].dropna()\n",
    "doc_set=list(df['Content'])"
   ]
  },
  {
   "cell_type": "markdown",
   "metadata": {},
   "source": [
    "# DATA PRE-PROCESSING"
   ]
  },
  {
   "cell_type": "code",
   "execution_count": 408,
   "metadata": {},
   "outputs": [],
   "source": [
    "for i in range(4831):\n",
    "    raw=doc_set[i].lower()\n",
    "    raw=re.sub(r'\\d+', '', raw)\n",
    "    word_tokens = tokenizer.tokenize(raw)\n",
    "    filtered_sentence = [w for w in word_tokens if not w in stop_words]\n",
    "    lemmatised_words=[lemmatizer.lemmatize(w) for w in filtered_sentence]\n",
    "    stemmed_words=[stemmer.stem(i) for i in lemmatised_words]\n",
    "    stemmed_tokens.append(stemmed_words)   "
   ]
  },
  {
   "cell_type": "code",
   "execution_count": 409,
   "metadata": {},
   "outputs": [
    {
     "name": "stdout",
     "output_type": "stream",
     "text": [
      "[nltk_data] Error loading wordnet: <urlopen error [Errno -3] Temporary\n",
      "[nltk_data]     failure in name resolution>\n"
     ]
    },
    {
     "data": {
      "text/plain": [
       "False"
      ]
     },
     "execution_count": 409,
     "metadata": {},
     "output_type": "execute_result"
    }
   ],
   "source": [
    "import nltk\n",
    "nltk.download('wordnet')"
   ]
  },
  {
   "cell_type": "markdown",
   "metadata": {},
   "source": [
    "# LDA MODEL"
   ]
  },
  {
   "cell_type": "code",
   "execution_count": 410,
   "metadata": {},
   "outputs": [],
   "source": [
    "dictionary=corpora.Dictionary(stemmed_tokens)\n",
    "doc_term_matrix=[dictionary.doc2bow(d) for d in stemmed_tokens]"
   ]
  },
  {
   "cell_type": "code",
   "execution_count": 411,
   "metadata": {},
   "outputs": [],
   "source": [
    "# Creating the object for LDA model using gensim library\n",
    "Lda = gensim.models.ldamodel.LdaModel\n",
    "\n",
    "# Running and Training LDA model on the document term matrix\n",
    "ldamodel = Lda(doc_term_matrix, num_topics=5, id2word = dictionary, passes=20,minimum_probability=0.0)"
   ]
  },
  {
   "cell_type": "code",
   "execution_count": 412,
   "metadata": {},
   "outputs": [],
   "source": [
    "#ldamodel=gensim.models.ldamodel.LdaModel(doc_term_matrix,num_topics=5,id2word=dictionary,passes=20,minimum_probability=0.0)"
   ]
  },
  {
   "cell_type": "code",
   "execution_count": 413,
   "metadata": {},
   "outputs": [
    {
     "data": {
      "text/plain": [
       "[(0, 0.02867984),\n",
       " (1, 0.6476206),\n",
       " (2, 0.0017051487),\n",
       " (3, 0.32026228),\n",
       " (4, 0.0017320783)]"
      ]
     },
     "execution_count": 413,
     "metadata": {},
     "output_type": "execute_result"
    }
   ],
   "source": [
    "item=ldamodel[doc_term_matrix[1]]\n",
    "item"
   ]
  },
  {
   "cell_type": "code",
   "execution_count": 414,
   "metadata": {},
   "outputs": [
    {
     "data": {
      "text/plain": [
       "(4831, 5)"
      ]
     },
     "execution_count": 414,
     "metadata": {},
     "output_type": "execute_result"
    }
   ],
   "source": [
    "topics=[]\n",
    "for i in range(4831):\n",
    "    item=ldamodel[doc_term_matrix[i]]\n",
    "    item=np.array(item).T\n",
    "    item=item[1]\n",
    "    topics.append(item) \n",
    "\n",
    "np.shape(topics)\n"
   ]
  },
  {
   "cell_type": "code",
   "execution_count": 415,
   "metadata": {},
   "outputs": [],
   "source": [
    "def get_lda_topics(model,num_topics):\n",
    "    word_dict={};\n",
    "    for i in range(num_topics):\n",
    "        words=model.show_topic(i,topn=10);\n",
    "        word_dict['Topic#' + '{:02d}'.format(i+1)]=[i[0] for i in words]\n",
    "    return pd.DataFrame(word_dict);"
   ]
  },
  {
   "cell_type": "code",
   "execution_count": 416,
   "metadata": {},
   "outputs": [
    {
     "data": {
      "text/html": [
       "<div>\n",
       "<style scoped>\n",
       "    .dataframe tbody tr th:only-of-type {\n",
       "        vertical-align: middle;\n",
       "    }\n",
       "\n",
       "    .dataframe tbody tr th {\n",
       "        vertical-align: top;\n",
       "    }\n",
       "\n",
       "    .dataframe thead th {\n",
       "        text-align: right;\n",
       "    }\n",
       "</style>\n",
       "<table border=\"1\" class=\"dataframe\">\n",
       "  <thead>\n",
       "    <tr style=\"text-align: right;\">\n",
       "      <th></th>\n",
       "      <th>Topic#01</th>\n",
       "      <th>Topic#02</th>\n",
       "      <th>Topic#03</th>\n",
       "      <th>Topic#04</th>\n",
       "      <th>Topic#05</th>\n",
       "    </tr>\n",
       "  </thead>\n",
       "  <tbody>\n",
       "    <tr>\n",
       "      <th>0</th>\n",
       "      <td>india</td>\n",
       "      <td>said</td>\n",
       "      <td>devic</td>\n",
       "      <td>film</td>\n",
       "      <td>india</td>\n",
       "    </tr>\n",
       "    <tr>\n",
       "      <th>1</th>\n",
       "      <td>year</td>\n",
       "      <td>report</td>\n",
       "      <td>featur</td>\n",
       "      <td>movi</td>\n",
       "      <td>olymp</td>\n",
       "    </tr>\n",
       "    <tr>\n",
       "      <th>2</th>\n",
       "      <td>said</td>\n",
       "      <td>polic</td>\n",
       "      <td>android</td>\n",
       "      <td>khan</td>\n",
       "      <td>game</td>\n",
       "    </tr>\n",
       "    <tr>\n",
       "      <th>3</th>\n",
       "      <td>r</td>\n",
       "      <td>state</td>\n",
       "      <td>smartphon</td>\n",
       "      <td>salman</td>\n",
       "      <td>world</td>\n",
       "    </tr>\n",
       "    <tr>\n",
       "      <th>4</th>\n",
       "      <td>price</td>\n",
       "      <td>also</td>\n",
       "      <td>step</td>\n",
       "      <td>actor</td>\n",
       "      <td>one</td>\n",
       "    </tr>\n",
       "    <tr>\n",
       "      <th>5</th>\n",
       "      <td>govern</td>\n",
       "      <td>minist</td>\n",
       "      <td>note</td>\n",
       "      <td>releas</td>\n",
       "      <td>rio</td>\n",
       "    </tr>\n",
       "    <tr>\n",
       "      <th>6</th>\n",
       "      <td>compani</td>\n",
       "      <td>attack</td>\n",
       "      <td>instal</td>\n",
       "      <td>also</td>\n",
       "      <td>indian</td>\n",
       "    </tr>\n",
       "    <tr>\n",
       "      <th>7</th>\n",
       "      <td>market</td>\n",
       "      <td>peopl</td>\n",
       "      <td>gb</td>\n",
       "      <td>star</td>\n",
       "      <td>win</td>\n",
       "    </tr>\n",
       "    <tr>\n",
       "      <th>8</th>\n",
       "      <td>crore</td>\n",
       "      <td>govern</td>\n",
       "      <td>new</td>\n",
       "      <td>day</td>\n",
       "      <td>year</td>\n",
       "    </tr>\n",
       "    <tr>\n",
       "      <th>9</th>\n",
       "      <td>bank</td>\n",
       "      <td>india</td>\n",
       "      <td>phone</td>\n",
       "      <td>actress</td>\n",
       "      <td>team</td>\n",
       "    </tr>\n",
       "  </tbody>\n",
       "</table>\n",
       "</div>"
      ],
      "text/plain": [
       "  Topic#01 Topic#02   Topic#03 Topic#04 Topic#05\n",
       "0    india     said      devic     film    india\n",
       "1     year   report     featur     movi    olymp\n",
       "2     said    polic    android     khan     game\n",
       "3        r    state  smartphon   salman    world\n",
       "4    price     also       step    actor      one\n",
       "5   govern   minist       note   releas      rio\n",
       "6  compani   attack     instal     also   indian\n",
       "7   market    peopl         gb     star      win\n",
       "8    crore   govern        new      day     year\n",
       "9     bank    india      phone  actress     team"
      ]
     },
     "execution_count": 416,
     "metadata": {},
     "output_type": "execute_result"
    }
   ],
   "source": [
    "get_lda_topics(ldamodel,5)"
   ]
  },
  {
   "cell_type": "code",
   "execution_count": 417,
   "metadata": {},
   "outputs": [
    {
     "data": {
      "text/plain": [
       "(4831, 5)"
      ]
     },
     "execution_count": 417,
     "metadata": {},
     "output_type": "execute_result"
    }
   ],
   "source": [
    "topics=np.array(topics)\n",
    "np.shape(topics)"
   ]
  },
  {
   "cell_type": "markdown",
   "metadata": {},
   "source": [
    "# K-Means CLUSTERING"
   ]
  },
  {
   "cell_type": "code",
   "execution_count": 418,
   "metadata": {},
   "outputs": [],
   "source": [
    "import sklearn\n",
    "from sklearn.cluster import KMeans\n",
    "kmeans=sklearn.cluster.KMeans(5).fit(topics)\n",
    "clusters=kmeans.labels_"
   ]
  },
  {
   "cell_type": "code",
   "execution_count": 419,
   "metadata": {},
   "outputs": [
    {
     "data": {
      "text/plain": [
       "array([0, 0, 0, ..., 1, 1, 1])"
      ]
     },
     "execution_count": 419,
     "metadata": {},
     "output_type": "execute_result"
    }
   ],
   "source": [
    "clusters"
   ]
  },
  {
   "cell_type": "markdown",
   "metadata": {},
   "source": [
    "# User Profile"
   ]
  },
  {
   "cell_type": "code",
   "execution_count": 420,
   "metadata": {},
   "outputs": [
    {
     "data": {
      "text/plain": [
       "array([0.5, 0.3, 0.5, ..., 0.5, 0.7, 0.3])"
      ]
     },
     "execution_count": 420,
     "metadata": {},
     "output_type": "execute_result"
    }
   ],
   "source": [
    "df=pd.read_csv('news_articles.csv')\n",
    "df=df[['Article_Id','Title','Content']].dropna()\n",
    "content=list(df['Content'])\n",
    "title=list(df[\"Title\"])\n",
    "\n",
    "length_article=([len(x) for x in df['Content']] ) #length of articles\n",
    "user_speed=5\n",
    "expected_time=[int((x/5)) for x in length_article]# expected time\n",
    "\n",
    "possion = np.random.poisson(5, 4831)/10 \n",
    "\n",
    "actual_time=expected_time*possion # \n",
    "possion        "
   ]
  },
  {
   "cell_type": "code",
   "execution_count": 421,
   "metadata": {},
   "outputs": [],
   "source": [
    "expected_time1=np.array(expected_time)\n",
    "ratio=actual_time.reshape(4831,1)/expected_time1.reshape(4831,1)\n",
    "ratio=ratio.reshape(4831)\n",
    "click_through= np.random.binomial(1, .7, 4831).reshape(4831)"
   ]
  },
  {
   "cell_type": "code",
   "execution_count": 422,
   "metadata": {},
   "outputs": [],
   "source": [
    "topics=np.array(topics)\n",
    "topics=topics.reshape(4831,5)\n",
    "Topic=pd.DataFrame(topics)"
   ]
  },
  {
   "cell_type": "code",
   "execution_count": 423,
   "metadata": {},
   "outputs": [],
   "source": [
    "data=pd.DataFrame({\"Title\":title,\"ratio\":ratio,\"click\":click_through,\"estimated\":expected_time,\"actual\":actual_time})"
   ]
  },
  {
   "cell_type": "code",
   "execution_count": 424,
   "metadata": {},
   "outputs": [],
   "source": [
    "weights=pd.DataFrame({\"Weights\":(data[\"click\"]*data[\"ratio\"])})\n",
    "new_data=pd.concat([Topic,weights],axis=1)\n",
    "#weights=np.array(weights).reshape(4831,1)"
   ]
  },
  {
   "cell_type": "code",
   "execution_count": 425,
   "metadata": {},
   "outputs": [],
   "source": [
    "user_prof=pd.DataFrame()\n",
    "for j in range(4):\n",
    "    for i in range(5):\n",
    "        user=(new_data[clusters==i][:j])\n",
    "        user_prof=user_prof.append(user)   \n"
   ]
  },
  {
   "cell_type": "code",
   "execution_count": 426,
   "metadata": {},
   "outputs": [
    {
     "data": {
      "text/html": [
       "<div>\n",
       "<style scoped>\n",
       "    .dataframe tbody tr th:only-of-type {\n",
       "        vertical-align: middle;\n",
       "    }\n",
       "\n",
       "    .dataframe tbody tr th {\n",
       "        vertical-align: top;\n",
       "    }\n",
       "\n",
       "    .dataframe thead th {\n",
       "        text-align: right;\n",
       "    }\n",
       "</style>\n",
       "<table border=\"1\" class=\"dataframe\">\n",
       "  <thead>\n",
       "    <tr style=\"text-align: right;\">\n",
       "      <th></th>\n",
       "      <th>0</th>\n",
       "      <th>1</th>\n",
       "      <th>2</th>\n",
       "      <th>3</th>\n",
       "      <th>4</th>\n",
       "      <th>Weights</th>\n",
       "    </tr>\n",
       "  </thead>\n",
       "  <tbody>\n",
       "    <tr>\n",
       "      <th>0</th>\n",
       "      <td>0.035946</td>\n",
       "      <td>0.959247</td>\n",
       "      <td>0.001589</td>\n",
       "      <td>0.001617</td>\n",
       "      <td>0.001600</td>\n",
       "      <td>0.5</td>\n",
       "    </tr>\n",
       "    <tr>\n",
       "      <th>388</th>\n",
       "      <td>0.106103</td>\n",
       "      <td>0.106103</td>\n",
       "      <td>0.575447</td>\n",
       "      <td>0.106151</td>\n",
       "      <td>0.106196</td>\n",
       "      <td>0.4</td>\n",
       "    </tr>\n",
       "    <tr>\n",
       "      <th>6</th>\n",
       "      <td>0.957800</td>\n",
       "      <td>0.001038</td>\n",
       "      <td>0.001051</td>\n",
       "      <td>0.011293</td>\n",
       "      <td>0.028819</td>\n",
       "      <td>0.2</td>\n",
       "    </tr>\n",
       "    <tr>\n",
       "      <th>27</th>\n",
       "      <td>0.002333</td>\n",
       "      <td>0.249755</td>\n",
       "      <td>0.043607</td>\n",
       "      <td>0.616855</td>\n",
       "      <td>0.087449</td>\n",
       "      <td>0.0</td>\n",
       "    </tr>\n",
       "    <tr>\n",
       "      <th>249</th>\n",
       "      <td>0.000875</td>\n",
       "      <td>0.000859</td>\n",
       "      <td>0.000858</td>\n",
       "      <td>0.224441</td>\n",
       "      <td>0.772967</td>\n",
       "      <td>0.8</td>\n",
       "    </tr>\n",
       "    <tr>\n",
       "      <th>0</th>\n",
       "      <td>0.035946</td>\n",
       "      <td>0.959247</td>\n",
       "      <td>0.001589</td>\n",
       "      <td>0.001617</td>\n",
       "      <td>0.001600</td>\n",
       "      <td>0.5</td>\n",
       "    </tr>\n",
       "    <tr>\n",
       "      <th>1</th>\n",
       "      <td>0.028683</td>\n",
       "      <td>0.647619</td>\n",
       "      <td>0.001705</td>\n",
       "      <td>0.320261</td>\n",
       "      <td>0.001732</td>\n",
       "      <td>0.3</td>\n",
       "    </tr>\n",
       "    <tr>\n",
       "      <th>388</th>\n",
       "      <td>0.106103</td>\n",
       "      <td>0.106103</td>\n",
       "      <td>0.575447</td>\n",
       "      <td>0.106151</td>\n",
       "      <td>0.106196</td>\n",
       "      <td>0.4</td>\n",
       "    </tr>\n",
       "    <tr>\n",
       "      <th>870</th>\n",
       "      <td>0.001467</td>\n",
       "      <td>0.001456</td>\n",
       "      <td>0.994141</td>\n",
       "      <td>0.001476</td>\n",
       "      <td>0.001459</td>\n",
       "      <td>0.0</td>\n",
       "    </tr>\n",
       "    <tr>\n",
       "      <th>6</th>\n",
       "      <td>0.957800</td>\n",
       "      <td>0.001038</td>\n",
       "      <td>0.001051</td>\n",
       "      <td>0.011293</td>\n",
       "      <td>0.028819</td>\n",
       "      <td>0.2</td>\n",
       "    </tr>\n",
       "    <tr>\n",
       "      <th>630</th>\n",
       "      <td>0.599351</td>\n",
       "      <td>0.100161</td>\n",
       "      <td>0.100162</td>\n",
       "      <td>0.100163</td>\n",
       "      <td>0.100163</td>\n",
       "      <td>0.1</td>\n",
       "    </tr>\n",
       "    <tr>\n",
       "      <th>27</th>\n",
       "      <td>0.002333</td>\n",
       "      <td>0.249755</td>\n",
       "      <td>0.043607</td>\n",
       "      <td>0.616855</td>\n",
       "      <td>0.087449</td>\n",
       "      <td>0.0</td>\n",
       "    </tr>\n",
       "    <tr>\n",
       "      <th>30</th>\n",
       "      <td>0.027832</td>\n",
       "      <td>0.000922</td>\n",
       "      <td>0.000921</td>\n",
       "      <td>0.969400</td>\n",
       "      <td>0.000925</td>\n",
       "      <td>0.4</td>\n",
       "    </tr>\n",
       "    <tr>\n",
       "      <th>249</th>\n",
       "      <td>0.000875</td>\n",
       "      <td>0.000859</td>\n",
       "      <td>0.000858</td>\n",
       "      <td>0.224441</td>\n",
       "      <td>0.772967</td>\n",
       "      <td>0.8</td>\n",
       "    </tr>\n",
       "    <tr>\n",
       "      <th>353</th>\n",
       "      <td>0.066990</td>\n",
       "      <td>0.067120</td>\n",
       "      <td>0.067512</td>\n",
       "      <td>0.068342</td>\n",
       "      <td>0.730036</td>\n",
       "      <td>0.7</td>\n",
       "    </tr>\n",
       "    <tr>\n",
       "      <th>0</th>\n",
       "      <td>0.035946</td>\n",
       "      <td>0.959247</td>\n",
       "      <td>0.001589</td>\n",
       "      <td>0.001617</td>\n",
       "      <td>0.001600</td>\n",
       "      <td>0.5</td>\n",
       "    </tr>\n",
       "    <tr>\n",
       "      <th>1</th>\n",
       "      <td>0.028683</td>\n",
       "      <td>0.647619</td>\n",
       "      <td>0.001705</td>\n",
       "      <td>0.320261</td>\n",
       "      <td>0.001732</td>\n",
       "      <td>0.3</td>\n",
       "    </tr>\n",
       "    <tr>\n",
       "      <th>2</th>\n",
       "      <td>0.001461</td>\n",
       "      <td>0.836277</td>\n",
       "      <td>0.001449</td>\n",
       "      <td>0.001451</td>\n",
       "      <td>0.159362</td>\n",
       "      <td>0.0</td>\n",
       "    </tr>\n",
       "    <tr>\n",
       "      <th>388</th>\n",
       "      <td>0.106103</td>\n",
       "      <td>0.106103</td>\n",
       "      <td>0.575447</td>\n",
       "      <td>0.106151</td>\n",
       "      <td>0.106196</td>\n",
       "      <td>0.4</td>\n",
       "    </tr>\n",
       "    <tr>\n",
       "      <th>870</th>\n",
       "      <td>0.001467</td>\n",
       "      <td>0.001456</td>\n",
       "      <td>0.994141</td>\n",
       "      <td>0.001476</td>\n",
       "      <td>0.001459</td>\n",
       "      <td>0.0</td>\n",
       "    </tr>\n",
       "    <tr>\n",
       "      <th>871</th>\n",
       "      <td>0.002253</td>\n",
       "      <td>0.002331</td>\n",
       "      <td>0.713360</td>\n",
       "      <td>0.002259</td>\n",
       "      <td>0.279797</td>\n",
       "      <td>0.5</td>\n",
       "    </tr>\n",
       "    <tr>\n",
       "      <th>6</th>\n",
       "      <td>0.957800</td>\n",
       "      <td>0.001038</td>\n",
       "      <td>0.001051</td>\n",
       "      <td>0.011293</td>\n",
       "      <td>0.028819</td>\n",
       "      <td>0.2</td>\n",
       "    </tr>\n",
       "    <tr>\n",
       "      <th>630</th>\n",
       "      <td>0.599351</td>\n",
       "      <td>0.100161</td>\n",
       "      <td>0.100162</td>\n",
       "      <td>0.100163</td>\n",
       "      <td>0.100163</td>\n",
       "      <td>0.1</td>\n",
       "    </tr>\n",
       "    <tr>\n",
       "      <th>834</th>\n",
       "      <td>0.941953</td>\n",
       "      <td>0.054029</td>\n",
       "      <td>0.001337</td>\n",
       "      <td>0.001343</td>\n",
       "      <td>0.001338</td>\n",
       "      <td>1.1</td>\n",
       "    </tr>\n",
       "    <tr>\n",
       "      <th>27</th>\n",
       "      <td>0.002333</td>\n",
       "      <td>0.249755</td>\n",
       "      <td>0.043607</td>\n",
       "      <td>0.616855</td>\n",
       "      <td>0.087449</td>\n",
       "      <td>0.0</td>\n",
       "    </tr>\n",
       "    <tr>\n",
       "      <th>30</th>\n",
       "      <td>0.027832</td>\n",
       "      <td>0.000922</td>\n",
       "      <td>0.000921</td>\n",
       "      <td>0.969400</td>\n",
       "      <td>0.000925</td>\n",
       "      <td>0.4</td>\n",
       "    </tr>\n",
       "    <tr>\n",
       "      <th>31</th>\n",
       "      <td>0.001319</td>\n",
       "      <td>0.001326</td>\n",
       "      <td>0.001306</td>\n",
       "      <td>0.994736</td>\n",
       "      <td>0.001314</td>\n",
       "      <td>0.0</td>\n",
       "    </tr>\n",
       "    <tr>\n",
       "      <th>249</th>\n",
       "      <td>0.000875</td>\n",
       "      <td>0.000859</td>\n",
       "      <td>0.000858</td>\n",
       "      <td>0.224441</td>\n",
       "      <td>0.772967</td>\n",
       "      <td>0.8</td>\n",
       "    </tr>\n",
       "    <tr>\n",
       "      <th>353</th>\n",
       "      <td>0.066990</td>\n",
       "      <td>0.067120</td>\n",
       "      <td>0.067512</td>\n",
       "      <td>0.068342</td>\n",
       "      <td>0.730036</td>\n",
       "      <td>0.7</td>\n",
       "    </tr>\n",
       "    <tr>\n",
       "      <th>454</th>\n",
       "      <td>0.027880</td>\n",
       "      <td>0.001333</td>\n",
       "      <td>0.001305</td>\n",
       "      <td>0.187682</td>\n",
       "      <td>0.781800</td>\n",
       "      <td>0.2</td>\n",
       "    </tr>\n",
       "  </tbody>\n",
       "</table>\n",
       "</div>"
      ],
      "text/plain": [
       "            0         1         2         3         4  Weights\n",
       "0    0.035946  0.959247  0.001589  0.001617  0.001600      0.5\n",
       "388  0.106103  0.106103  0.575447  0.106151  0.106196      0.4\n",
       "6    0.957800  0.001038  0.001051  0.011293  0.028819      0.2\n",
       "27   0.002333  0.249755  0.043607  0.616855  0.087449      0.0\n",
       "249  0.000875  0.000859  0.000858  0.224441  0.772967      0.8\n",
       "0    0.035946  0.959247  0.001589  0.001617  0.001600      0.5\n",
       "1    0.028683  0.647619  0.001705  0.320261  0.001732      0.3\n",
       "388  0.106103  0.106103  0.575447  0.106151  0.106196      0.4\n",
       "870  0.001467  0.001456  0.994141  0.001476  0.001459      0.0\n",
       "6    0.957800  0.001038  0.001051  0.011293  0.028819      0.2\n",
       "630  0.599351  0.100161  0.100162  0.100163  0.100163      0.1\n",
       "27   0.002333  0.249755  0.043607  0.616855  0.087449      0.0\n",
       "30   0.027832  0.000922  0.000921  0.969400  0.000925      0.4\n",
       "249  0.000875  0.000859  0.000858  0.224441  0.772967      0.8\n",
       "353  0.066990  0.067120  0.067512  0.068342  0.730036      0.7\n",
       "0    0.035946  0.959247  0.001589  0.001617  0.001600      0.5\n",
       "1    0.028683  0.647619  0.001705  0.320261  0.001732      0.3\n",
       "2    0.001461  0.836277  0.001449  0.001451  0.159362      0.0\n",
       "388  0.106103  0.106103  0.575447  0.106151  0.106196      0.4\n",
       "870  0.001467  0.001456  0.994141  0.001476  0.001459      0.0\n",
       "871  0.002253  0.002331  0.713360  0.002259  0.279797      0.5\n",
       "6    0.957800  0.001038  0.001051  0.011293  0.028819      0.2\n",
       "630  0.599351  0.100161  0.100162  0.100163  0.100163      0.1\n",
       "834  0.941953  0.054029  0.001337  0.001343  0.001338      1.1\n",
       "27   0.002333  0.249755  0.043607  0.616855  0.087449      0.0\n",
       "30   0.027832  0.000922  0.000921  0.969400  0.000925      0.4\n",
       "31   0.001319  0.001326  0.001306  0.994736  0.001314      0.0\n",
       "249  0.000875  0.000859  0.000858  0.224441  0.772967      0.8\n",
       "353  0.066990  0.067120  0.067512  0.068342  0.730036      0.7\n",
       "454  0.027880  0.001333  0.001305  0.187682  0.781800      0.2"
      ]
     },
     "execution_count": 426,
     "metadata": {},
     "output_type": "execute_result"
    }
   ],
   "source": [
    "user_prof"
   ]
  },
  {
   "cell_type": "code",
   "execution_count": 427,
   "metadata": {},
   "outputs": [],
   "source": [
    "for i in range(5):\n",
    "    user_prof[i]=user_prof[\"Weights\"]*user_prof[i]  "
   ]
  },
  {
   "cell_type": "code",
   "execution_count": 428,
   "metadata": {},
   "outputs": [],
   "source": [
    "user_prof=user_prof.drop(\"Weights\",axis=1)"
   ]
  },
  {
   "cell_type": "code",
   "execution_count": 429,
   "metadata": {},
   "outputs": [
    {
     "data": {
      "text/html": [
       "<div>\n",
       "<style scoped>\n",
       "    .dataframe tbody tr th:only-of-type {\n",
       "        vertical-align: middle;\n",
       "    }\n",
       "\n",
       "    .dataframe tbody tr th {\n",
       "        vertical-align: top;\n",
       "    }\n",
       "\n",
       "    .dataframe thead th {\n",
       "        text-align: right;\n",
       "    }\n",
       "</style>\n",
       "<table border=\"1\" class=\"dataframe\">\n",
       "  <thead>\n",
       "    <tr style=\"text-align: right;\">\n",
       "      <th></th>\n",
       "      <th>0</th>\n",
       "      <th>1</th>\n",
       "      <th>2</th>\n",
       "      <th>3</th>\n",
       "      <th>4</th>\n",
       "    </tr>\n",
       "  </thead>\n",
       "  <tbody>\n",
       "    <tr>\n",
       "      <th>0</th>\n",
       "      <td>0.017973</td>\n",
       "      <td>0.479623</td>\n",
       "      <td>0.000795</td>\n",
       "      <td>0.000809</td>\n",
       "      <td>0.000800</td>\n",
       "    </tr>\n",
       "    <tr>\n",
       "      <th>388</th>\n",
       "      <td>0.042441</td>\n",
       "      <td>0.042441</td>\n",
       "      <td>0.230179</td>\n",
       "      <td>0.042461</td>\n",
       "      <td>0.042479</td>\n",
       "    </tr>\n",
       "    <tr>\n",
       "      <th>6</th>\n",
       "      <td>0.191560</td>\n",
       "      <td>0.000208</td>\n",
       "      <td>0.000210</td>\n",
       "      <td>0.002259</td>\n",
       "      <td>0.005764</td>\n",
       "    </tr>\n",
       "    <tr>\n",
       "      <th>27</th>\n",
       "      <td>0.000000</td>\n",
       "      <td>0.000000</td>\n",
       "      <td>0.000000</td>\n",
       "      <td>0.000000</td>\n",
       "      <td>0.000000</td>\n",
       "    </tr>\n",
       "    <tr>\n",
       "      <th>249</th>\n",
       "      <td>0.000700</td>\n",
       "      <td>0.000687</td>\n",
       "      <td>0.000687</td>\n",
       "      <td>0.179553</td>\n",
       "      <td>0.618373</td>\n",
       "    </tr>\n",
       "    <tr>\n",
       "      <th>0</th>\n",
       "      <td>0.017973</td>\n",
       "      <td>0.479623</td>\n",
       "      <td>0.000795</td>\n",
       "      <td>0.000809</td>\n",
       "      <td>0.000800</td>\n",
       "    </tr>\n",
       "    <tr>\n",
       "      <th>1</th>\n",
       "      <td>0.008605</td>\n",
       "      <td>0.194286</td>\n",
       "      <td>0.000512</td>\n",
       "      <td>0.096078</td>\n",
       "      <td>0.000520</td>\n",
       "    </tr>\n",
       "    <tr>\n",
       "      <th>388</th>\n",
       "      <td>0.042441</td>\n",
       "      <td>0.042441</td>\n",
       "      <td>0.230179</td>\n",
       "      <td>0.042461</td>\n",
       "      <td>0.042479</td>\n",
       "    </tr>\n",
       "    <tr>\n",
       "      <th>870</th>\n",
       "      <td>0.000000</td>\n",
       "      <td>0.000000</td>\n",
       "      <td>0.000000</td>\n",
       "      <td>0.000000</td>\n",
       "      <td>0.000000</td>\n",
       "    </tr>\n",
       "    <tr>\n",
       "      <th>6</th>\n",
       "      <td>0.191560</td>\n",
       "      <td>0.000208</td>\n",
       "      <td>0.000210</td>\n",
       "      <td>0.002259</td>\n",
       "      <td>0.005764</td>\n",
       "    </tr>\n",
       "    <tr>\n",
       "      <th>630</th>\n",
       "      <td>0.059935</td>\n",
       "      <td>0.010016</td>\n",
       "      <td>0.010016</td>\n",
       "      <td>0.010016</td>\n",
       "      <td>0.010016</td>\n",
       "    </tr>\n",
       "    <tr>\n",
       "      <th>27</th>\n",
       "      <td>0.000000</td>\n",
       "      <td>0.000000</td>\n",
       "      <td>0.000000</td>\n",
       "      <td>0.000000</td>\n",
       "      <td>0.000000</td>\n",
       "    </tr>\n",
       "    <tr>\n",
       "      <th>30</th>\n",
       "      <td>0.011133</td>\n",
       "      <td>0.000369</td>\n",
       "      <td>0.000368</td>\n",
       "      <td>0.387760</td>\n",
       "      <td>0.000370</td>\n",
       "    </tr>\n",
       "    <tr>\n",
       "      <th>249</th>\n",
       "      <td>0.000700</td>\n",
       "      <td>0.000687</td>\n",
       "      <td>0.000687</td>\n",
       "      <td>0.179553</td>\n",
       "      <td>0.618373</td>\n",
       "    </tr>\n",
       "    <tr>\n",
       "      <th>353</th>\n",
       "      <td>0.046893</td>\n",
       "      <td>0.046984</td>\n",
       "      <td>0.047259</td>\n",
       "      <td>0.047839</td>\n",
       "      <td>0.511025</td>\n",
       "    </tr>\n",
       "    <tr>\n",
       "      <th>0</th>\n",
       "      <td>0.017973</td>\n",
       "      <td>0.479623</td>\n",
       "      <td>0.000795</td>\n",
       "      <td>0.000809</td>\n",
       "      <td>0.000800</td>\n",
       "    </tr>\n",
       "    <tr>\n",
       "      <th>1</th>\n",
       "      <td>0.008605</td>\n",
       "      <td>0.194286</td>\n",
       "      <td>0.000512</td>\n",
       "      <td>0.096078</td>\n",
       "      <td>0.000520</td>\n",
       "    </tr>\n",
       "    <tr>\n",
       "      <th>2</th>\n",
       "      <td>0.000000</td>\n",
       "      <td>0.000000</td>\n",
       "      <td>0.000000</td>\n",
       "      <td>0.000000</td>\n",
       "      <td>0.000000</td>\n",
       "    </tr>\n",
       "    <tr>\n",
       "      <th>388</th>\n",
       "      <td>0.042441</td>\n",
       "      <td>0.042441</td>\n",
       "      <td>0.230179</td>\n",
       "      <td>0.042461</td>\n",
       "      <td>0.042479</td>\n",
       "    </tr>\n",
       "    <tr>\n",
       "      <th>870</th>\n",
       "      <td>0.000000</td>\n",
       "      <td>0.000000</td>\n",
       "      <td>0.000000</td>\n",
       "      <td>0.000000</td>\n",
       "      <td>0.000000</td>\n",
       "    </tr>\n",
       "    <tr>\n",
       "      <th>871</th>\n",
       "      <td>0.001126</td>\n",
       "      <td>0.001165</td>\n",
       "      <td>0.356680</td>\n",
       "      <td>0.001129</td>\n",
       "      <td>0.139899</td>\n",
       "    </tr>\n",
       "    <tr>\n",
       "      <th>6</th>\n",
       "      <td>0.191560</td>\n",
       "      <td>0.000208</td>\n",
       "      <td>0.000210</td>\n",
       "      <td>0.002259</td>\n",
       "      <td>0.005764</td>\n",
       "    </tr>\n",
       "    <tr>\n",
       "      <th>630</th>\n",
       "      <td>0.059935</td>\n",
       "      <td>0.010016</td>\n",
       "      <td>0.010016</td>\n",
       "      <td>0.010016</td>\n",
       "      <td>0.010016</td>\n",
       "    </tr>\n",
       "    <tr>\n",
       "      <th>834</th>\n",
       "      <td>1.036148</td>\n",
       "      <td>0.059432</td>\n",
       "      <td>0.001470</td>\n",
       "      <td>0.001477</td>\n",
       "      <td>0.001472</td>\n",
       "    </tr>\n",
       "    <tr>\n",
       "      <th>27</th>\n",
       "      <td>0.000000</td>\n",
       "      <td>0.000000</td>\n",
       "      <td>0.000000</td>\n",
       "      <td>0.000000</td>\n",
       "      <td>0.000000</td>\n",
       "    </tr>\n",
       "    <tr>\n",
       "      <th>30</th>\n",
       "      <td>0.011133</td>\n",
       "      <td>0.000369</td>\n",
       "      <td>0.000368</td>\n",
       "      <td>0.387760</td>\n",
       "      <td>0.000370</td>\n",
       "    </tr>\n",
       "    <tr>\n",
       "      <th>31</th>\n",
       "      <td>0.000000</td>\n",
       "      <td>0.000000</td>\n",
       "      <td>0.000000</td>\n",
       "      <td>0.000000</td>\n",
       "      <td>0.000000</td>\n",
       "    </tr>\n",
       "    <tr>\n",
       "      <th>249</th>\n",
       "      <td>0.000700</td>\n",
       "      <td>0.000687</td>\n",
       "      <td>0.000687</td>\n",
       "      <td>0.179553</td>\n",
       "      <td>0.618373</td>\n",
       "    </tr>\n",
       "    <tr>\n",
       "      <th>353</th>\n",
       "      <td>0.046893</td>\n",
       "      <td>0.046984</td>\n",
       "      <td>0.047259</td>\n",
       "      <td>0.047839</td>\n",
       "      <td>0.511025</td>\n",
       "    </tr>\n",
       "    <tr>\n",
       "      <th>454</th>\n",
       "      <td>0.005576</td>\n",
       "      <td>0.000267</td>\n",
       "      <td>0.000261</td>\n",
       "      <td>0.037536</td>\n",
       "      <td>0.156360</td>\n",
       "    </tr>\n",
       "  </tbody>\n",
       "</table>\n",
       "</div>"
      ],
      "text/plain": [
       "            0         1         2         3         4\n",
       "0    0.017973  0.479623  0.000795  0.000809  0.000800\n",
       "388  0.042441  0.042441  0.230179  0.042461  0.042479\n",
       "6    0.191560  0.000208  0.000210  0.002259  0.005764\n",
       "27   0.000000  0.000000  0.000000  0.000000  0.000000\n",
       "249  0.000700  0.000687  0.000687  0.179553  0.618373\n",
       "0    0.017973  0.479623  0.000795  0.000809  0.000800\n",
       "1    0.008605  0.194286  0.000512  0.096078  0.000520\n",
       "388  0.042441  0.042441  0.230179  0.042461  0.042479\n",
       "870  0.000000  0.000000  0.000000  0.000000  0.000000\n",
       "6    0.191560  0.000208  0.000210  0.002259  0.005764\n",
       "630  0.059935  0.010016  0.010016  0.010016  0.010016\n",
       "27   0.000000  0.000000  0.000000  0.000000  0.000000\n",
       "30   0.011133  0.000369  0.000368  0.387760  0.000370\n",
       "249  0.000700  0.000687  0.000687  0.179553  0.618373\n",
       "353  0.046893  0.046984  0.047259  0.047839  0.511025\n",
       "0    0.017973  0.479623  0.000795  0.000809  0.000800\n",
       "1    0.008605  0.194286  0.000512  0.096078  0.000520\n",
       "2    0.000000  0.000000  0.000000  0.000000  0.000000\n",
       "388  0.042441  0.042441  0.230179  0.042461  0.042479\n",
       "870  0.000000  0.000000  0.000000  0.000000  0.000000\n",
       "871  0.001126  0.001165  0.356680  0.001129  0.139899\n",
       "6    0.191560  0.000208  0.000210  0.002259  0.005764\n",
       "630  0.059935  0.010016  0.010016  0.010016  0.010016\n",
       "834  1.036148  0.059432  0.001470  0.001477  0.001472\n",
       "27   0.000000  0.000000  0.000000  0.000000  0.000000\n",
       "30   0.011133  0.000369  0.000368  0.387760  0.000370\n",
       "31   0.000000  0.000000  0.000000  0.000000  0.000000\n",
       "249  0.000700  0.000687  0.000687  0.179553  0.618373\n",
       "353  0.046893  0.046984  0.047259  0.047839  0.511025\n",
       "454  0.005576  0.000267  0.000261  0.037536  0.156360"
      ]
     },
     "execution_count": 429,
     "metadata": {},
     "output_type": "execute_result"
    }
   ],
   "source": [
    "user_prof"
   ]
  },
  {
   "cell_type": "code",
   "execution_count": 430,
   "metadata": {},
   "outputs": [],
   "source": [
    "new_user=user_prof.sum(axis=0)"
   ]
  },
  {
   "cell_type": "code",
   "execution_count": 431,
   "metadata": {},
   "outputs": [],
   "source": [
    "new_user=np.array(new_user).reshape(1,5)"
   ]
  },
  {
   "cell_type": "code",
   "execution_count": 432,
   "metadata": {},
   "outputs": [
    {
     "data": {
      "text/plain": [
       "array([[2.05400611, 2.13304939, 1.17033128, 1.79877269, 3.34384042]])"
      ]
     },
     "execution_count": 432,
     "metadata": {},
     "output_type": "execute_result"
    }
   ],
   "source": [
    "new_user"
   ]
  },
  {
   "cell_type": "markdown",
   "metadata": {},
   "source": [
    "# Cosine similarity"
   ]
  },
  {
   "cell_type": "code",
   "execution_count": 433,
   "metadata": {},
   "outputs": [],
   "source": [
    "from sklearn.metrics.pairwise import cosine_similarity"
   ]
  },
  {
   "cell_type": "code",
   "execution_count": 434,
   "metadata": {},
   "outputs": [
    {
     "data": {
      "text/plain": [
       "array([[0.03594604, 0.95924693, 0.00158927, 0.00161741, 0.00160035],\n",
       "       [0.02868252, 0.64761883, 0.00170515, 0.32026142, 0.00173207],\n",
       "       [0.0014611 , 0.83627737, 0.00144919, 0.00145057, 0.15936181],\n",
       "       ...,\n",
       "       [0.05873723, 0.00110028, 0.93796504, 0.00109831, 0.00109914],\n",
       "       [0.01601425, 0.0010091 , 0.98096669, 0.00100374, 0.00100626],\n",
       "       [0.03374894, 0.00172708, 0.7209729 , 0.06950273, 0.17404833]])"
      ]
     },
     "execution_count": 434,
     "metadata": {},
     "output_type": "execute_result"
    }
   ],
   "source": [
    "similarity=cosine_similarity(new_user,topics)\n",
    "topics"
   ]
  },
  {
   "cell_type": "code",
   "execution_count": 435,
   "metadata": {},
   "outputs": [],
   "source": [
    "similarity=np.array(similarity).reshape(-1,1)"
   ]
  },
  {
   "cell_type": "code",
   "execution_count": 436,
   "metadata": {},
   "outputs": [],
   "source": [
    "similarity=(similarity).flatten()"
   ]
  },
  {
   "cell_type": "code",
   "execution_count": 437,
   "metadata": {},
   "outputs": [],
   "source": [
    "top=np.argsort(similarity)"
   ]
  },
  {
   "cell_type": "code",
   "execution_count": 438,
   "metadata": {},
   "outputs": [],
   "source": [
    "top=top[-5:]"
   ]
  },
  {
   "cell_type": "code",
   "execution_count": 439,
   "metadata": {},
   "outputs": [
    {
     "data": {
      "text/plain": [
       "array([3391, 1023, 1647, 1323, 1876], dtype=int32)"
      ]
     },
     "execution_count": 439,
     "metadata": {},
     "output_type": "execute_result"
    }
   ],
   "source": [
    "top"
   ]
  },
  {
   "cell_type": "markdown",
   "metadata": {},
   "source": [
    "# New Recommendations"
   ]
  },
  {
   "cell_type": "code",
   "execution_count": 440,
   "metadata": {},
   "outputs": [],
   "source": [
    "new_recom=[]\n",
    "for i in range(5):\n",
    "    unu=title[top[i]]\n",
    "    new_recom.append(unu)    "
   ]
  },
  {
   "cell_type": "code",
   "execution_count": 441,
   "metadata": {},
   "outputs": [
    {
     "data": {
      "text/plain": [
       "'Net Neutrality  TRAI Receives over 2 Lakh Mails after AIB s  Save the Internet  Campaign Goes Viral'"
      ]
     },
     "execution_count": 441,
     "metadata": {},
     "output_type": "execute_result"
    }
   ],
   "source": [
    "unu"
   ]
  },
  {
   "cell_type": "code",
   "execution_count": 442,
   "metadata": {},
   "outputs": [
    {
     "data": {
      "text/plain": [
       "['Sri Lanka may be LCA Tejas  first export customer  Report',\n",
       " 'After The Pirate Bay  KickassTorrents  KAT  goes offline  Here s 6 best alternate BitTorrent sites',\n",
       " 'Sania Mirza disinvited by MP govt after she demands make-up kit worth Rs 75 000',\n",
       " 'Google wants to represent gender equality through emoji',\n",
       " 'Net Neutrality  TRAI Receives over 2 Lakh Mails after AIB s  Save the Internet  Campaign Goes Viral']"
      ]
     },
     "execution_count": 442,
     "metadata": {},
     "output_type": "execute_result"
    }
   ],
   "source": [
    "new_recom"
   ]
  },
  {
   "cell_type": "code",
   "execution_count": null,
   "metadata": {},
   "outputs": [],
   "source": []
  },
  {
   "cell_type": "code",
   "execution_count": null,
   "metadata": {},
   "outputs": [],
   "source": []
  },
  {
   "cell_type": "code",
   "execution_count": null,
   "metadata": {},
   "outputs": [],
   "source": []
  },
  {
   "cell_type": "code",
   "execution_count": null,
   "metadata": {},
   "outputs": [],
   "source": []
  },
  {
   "cell_type": "code",
   "execution_count": null,
   "metadata": {},
   "outputs": [],
   "source": []
  },
  {
   "cell_type": "code",
   "execution_count": null,
   "metadata": {},
   "outputs": [],
   "source": []
  },
  {
   "cell_type": "code",
   "execution_count": null,
   "metadata": {},
   "outputs": [],
   "source": []
  },
  {
   "cell_type": "code",
   "execution_count": null,
   "metadata": {},
   "outputs": [],
   "source": []
  },
  {
   "cell_type": "code",
   "execution_count": null,
   "metadata": {},
   "outputs": [],
   "source": []
  },
  {
   "cell_type": "code",
   "execution_count": null,
   "metadata": {},
   "outputs": [],
   "source": []
  },
  {
   "cell_type": "code",
   "execution_count": null,
   "metadata": {},
   "outputs": [],
   "source": []
  },
  {
   "cell_type": "code",
   "execution_count": null,
   "metadata": {},
   "outputs": [],
   "source": []
  },
  {
   "cell_type": "code",
   "execution_count": null,
   "metadata": {},
   "outputs": [],
   "source": []
  },
  {
   "cell_type": "code",
   "execution_count": null,
   "metadata": {},
   "outputs": [],
   "source": []
  },
  {
   "cell_type": "code",
   "execution_count": null,
   "metadata": {},
   "outputs": [],
   "source": []
  },
  {
   "cell_type": "code",
   "execution_count": null,
   "metadata": {},
   "outputs": [],
   "source": []
  },
  {
   "cell_type": "code",
   "execution_count": null,
   "metadata": {},
   "outputs": [],
   "source": []
  },
  {
   "cell_type": "code",
   "execution_count": null,
   "metadata": {},
   "outputs": [],
   "source": []
  },
  {
   "cell_type": "code",
   "execution_count": null,
   "metadata": {},
   "outputs": [],
   "source": []
  },
  {
   "cell_type": "code",
   "execution_count": null,
   "metadata": {},
   "outputs": [],
   "source": []
  },
  {
   "cell_type": "code",
   "execution_count": null,
   "metadata": {},
   "outputs": [],
   "source": []
  },
  {
   "cell_type": "code",
   "execution_count": null,
   "metadata": {},
   "outputs": [],
   "source": []
  },
  {
   "cell_type": "code",
   "execution_count": null,
   "metadata": {},
   "outputs": [],
   "source": []
  },
  {
   "cell_type": "code",
   "execution_count": null,
   "metadata": {},
   "outputs": [],
   "source": []
  },
  {
   "cell_type": "code",
   "execution_count": null,
   "metadata": {},
   "outputs": [],
   "source": []
  },
  {
   "cell_type": "code",
   "execution_count": null,
   "metadata": {},
   "outputs": [],
   "source": []
  },
  {
   "cell_type": "code",
   "execution_count": null,
   "metadata": {},
   "outputs": [],
   "source": []
  },
  {
   "cell_type": "code",
   "execution_count": null,
   "metadata": {},
   "outputs": [],
   "source": []
  },
  {
   "cell_type": "code",
   "execution_count": null,
   "metadata": {},
   "outputs": [],
   "source": []
  }
 ],
 "metadata": {
  "kernelspec": {
   "display_name": "Python 3",
   "language": "python",
   "name": "python3"
  },
  "language_info": {
   "codemirror_mode": {
    "name": "ipython",
    "version": 3
   },
   "file_extension": ".py",
   "mimetype": "text/x-python",
   "name": "python",
   "nbconvert_exporter": "python",
   "pygments_lexer": "ipython3",
   "version": "3.6.4"
  }
 },
 "nbformat": 4,
 "nbformat_minor": 2
}
